{
 "cells": [
  {
   "cell_type": "code",
   "execution_count": null,
   "id": "2cb6a0b1-df5e-47e3-94d2-1f460874c5a5",
   "metadata": {},
   "outputs": [],
   "source": [
    "import requests\n",
    "import csv\n",
    "\n",
    "# OLX API endpoint\n",
    "api_url = \"https://www.olx.in/api/relevance/search\"\n",
    "params = {\n",
    "    \"query\": \"car cover\",\n",
    "    \"location\": \"india\",\n",
    "    \"page\": 1\n",
    "}\n",
    "headers = {\n",
    "    \"User-Agent\": \"Mozilla/5.0\",\n",
    "    \"Accept\": \"application/json\"\n",
    "}\n",
    "\n",
    "response = requests.get(api_url, params=params, headers=headers)\n",
    "\n",
    "# Debug: print HTTP status code\n",
    "print(\"Status Code:\", response.status_code)\n",
    "\n",
    "# Check if it's JSON\n",
    "try:\n",
    "    data = response.json()\n",
    "except Exception as e:\n",
    "    print(\"Failed to parse JSON:\", e)\n",
    "    exit()\n",
    "\n",
    "# Debug: inspect structure\n",
    "print(\"Top-level keys:\", data.keys())\n",
    "\n",
    "# Attempt to extract ads\n",
    "ads = data.get(\"data\", [])\n",
    "\n",
    "# Debug: print how many ads found\n",
    "print(\"Ads found:\", len(ads))\n",
    "\n",
    "# Extract titles and URLs\n",
    "results = []\n",
    "for ad in ads:\n",
    "    title = ad.get(\"title\", \"\").strip()\n",
    "    url = \"https://www.olx.in\" + ad.get(\"url\", \"\")\n",
    "    if title and \"car cover\" in title.lower():  # optional filter\n",
    "        results.append([title, url])\n",
    "\n",
    "# Debug: print results count\n",
    "print(\"Filtered results:\", len(results))\n",
    "\n",
    "# Save to CSV if data exists\n",
    "if results:\n",
    "    with open(\"olx_car_covers_api.csv\", mode='w', newline='', encoding='utf-8') as file:\n",
    "        writer = csv.writer(file)\n",
    "        writer.writerow([\"Title\", \"URL\"])\n",
    "        writer.writerows(results)\n",
    "    print(\"CSV file created successfully.\")\n",
    "else:\n",
    "    print(\"No results to write to CSV.\")\n"
   ]
  },
  {
   "cell_type": "code",
   "execution_count": null,
   "id": "dff1759e-62ae-4396-8edc-f692e5c54646",
   "metadata": {},
   "outputs": [],
   "source": []
  }
 ],
 "metadata": {
  "kernelspec": {
   "display_name": "Python 3 (ipykernel)",
   "language": "python",
   "name": "python3"
  },
  "language_info": {
   "codemirror_mode": {
    "name": "ipython",
    "version": 3
   },
   "file_extension": ".py",
   "mimetype": "text/x-python",
   "name": "python",
   "nbconvert_exporter": "python",
   "pygments_lexer": "ipython3",
   "version": "3.12.6"
  }
 },
 "nbformat": 4,
 "nbformat_minor": 5
}
